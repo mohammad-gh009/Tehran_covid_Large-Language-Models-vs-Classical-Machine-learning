{
 "cells": [
  {
   "cell_type": "code",
   "execution_count": 323,
   "metadata": {},
   "outputs": [],
   "source": [
    "import pandas as pd\n",
    "import numpy as np\n",
    "from sklearn.model_selection import train_test_split\n",
    "\n",
    "# loading data\n",
    "#a = pd.read_excel(\"3 - changing column names for LLM.xlsx\")\n",
    "#preventing from frequent loading \n"
   ]
  },
  {
   "cell_type": "code",
   "execution_count": 324,
   "metadata": {},
   "outputs": [],
   "source": [
    "\n",
    "df = a\n",
    "#drop rows with at least 30 missing values\n",
    "#df.dropna(thresh=df.shape[1] - 10, inplace=True)\n",
    "\n",
    "# Drop column: 'L1_BloodGroup_First'\n",
    "df = df.drop(columns=['Blood Group'])\n",
    "# Drop rows with missing data in column: 'Outcome_InhospitalMortality'\n",
    "df = df.dropna(subset=['Inhospital Mortality'])\n"
   ]
  },
  {
   "cell_type": "code",
   "execution_count": null,
   "metadata": {},
   "outputs": [],
   "source": []
  },
  {
   "cell_type": "code",
   "execution_count": 325,
   "metadata": {},
   "outputs": [],
   "source": [
    "# imputing missing values\n",
    "\n",
    "\n",
    "# splitting internal and external validation\n",
    "df_internal_validation = df[df['Patient_Hospital']!=\"Hospital2\"]\n",
    "df_external_validation = df[df['Patient_Hospital']==\"Hospital2\"]\n",
    "df_internal_validation = df_internal_validation.drop(columns=['Patient_Hospital'])\n",
    "df_external_validation = df_external_validation.drop(columns=['Patient_Hospital'])\n",
    "X = df_internal_validation.drop(columns=[\"Inhospital Mortality\",\"ICU admission\",\"Intubation\",\"Dialysis\"])\n",
    "y  = df_internal_validation['Inhospital Mortality']\n",
    "X_ex = df_external_validation.drop(columns=[\"Inhospital Mortality\",\"ICU admission\",\"Intubation\",\"Dialysis\"])\n",
    "y_ex  = df_external_validation['Inhospital Mortality']\n",
    "X_train , X_test , y_train , y_test = train_test_split(X,y, test_size = 0.2 , random_state = 42)\n",
    "num =  [\n",
    "    \"O2 saturation without supply\",\n",
    "    \"pulse rate\",\n",
    "    \"diastolic Blood pressure\",\n",
    "    \"Systolic Blood pressure\",\n",
    "    \"respiratory rate\",\n",
    "    \"Temperature\",\n",
    "    \"WBC\",\n",
    "    \" Lymphocyte count\",\n",
    "    \" Neutrophils percentage\",\n",
    "    \"Platelets \",\n",
    "    \"Hemoglobin\",\n",
    "    \"MCV\",\n",
    "    \"CR\",\n",
    "    \"sodium\",\n",
    "    \"potassium\",\n",
    "    \"alkaline phosphatase\",\n",
    "    \"ESR\",\n",
    "    \"CPK\",\n",
    "    \"PTT\",\n",
    "    \"PT\",\n",
    "    \"Age\"\n",
    "]\n",
    "cat = X.drop(columns= num).columns.tolist()\n",
    "import numpy as np\n",
    "from sklearn.impute import KNNImputer\n",
    "\n",
    "imputer = KNNImputer(n_neighbors=5)\n",
    "\n",
    "X_train_cat = imputer.fit_transform(np.array(X_train[cat]))\n",
    "X_test_cat = imputer.fit_transform(np.array(X_test[cat]))\n",
    "X_ex_cat = imputer.fit_transform(np.array(X_ex[cat]))\n",
    "\n",
    "X_train_cat = pd.DataFrame(X_train_cat, columns=cat)\n",
    "X_test_cat = pd.DataFrame(X_test_cat, columns=cat)\n",
    "X_ex_cat = pd.DataFrame(X_ex_cat, columns=cat)\n",
    "from sklearn.experimental import enable_iterative_imputer\n",
    "from sklearn.impute import IterativeImputer\n",
    "\n",
    "imputer = IterativeImputer(max_iter=50, random_state=0)\n",
    "\n",
    "X_train_num = imputer.fit_transform(X_train[num])\n",
    "X_test_num = imputer.fit_transform(X_test[num])\n",
    "X_ex_num = imputer.fit_transform(X_ex[num])\n",
    "\n",
    "X_train_num = pd.DataFrame(X_train_num, columns=num)\n",
    "X_test_num = pd.DataFrame(X_test_num, columns=num)\n",
    "X_ex_num = pd.DataFrame(X_ex_num, columns=num)\n",
    "\n",
    "X_train = pd.concat([X_train_cat, X_train_num], axis=1)\n",
    "X_test = pd.concat([X_test_cat, X_test_num], axis=1)\n",
    "X_ex = pd.concat([X_ex_cat, X_ex_num], axis=1)\n"
   ]
  },
  {
   "cell_type": "code",
   "execution_count": 326,
   "metadata": {},
   "outputs": [],
   "source": [
    "from sklearn.linear_model import Lasso\n",
    "\n",
    "def lasso_MO_ICU(X_train, y_train,X_test , X_ex, max_iter=1000):\n",
    "\n",
    "    \n",
    "    lasso = Lasso(alpha=0.001,random_state=42 , max_iter=max_iter)\n",
    "    lasso.fit(X_train, y_train)\n",
    "\n",
    "\n",
    "    absolute_coeffs = np.abs(lasso.coef_)\n",
    "    sorted_indices = np.argsort(absolute_coeffs)[::-1]\n",
    "\n",
    "    X_train = pd.DataFrame(X_train)\n",
    "    X_test = pd.DataFrame(X_test)\n",
    "    X_ex = pd.DataFrame(X_ex)\n",
    "\n",
    "    selected_feature_indices = sorted_indices[:40]\n",
    "    selected_feature_indices = np.where(lasso.coef_ != 0)[0]\n",
    "\n",
    "\n",
    "    X_train_selected_Mortality_ICU = X_train.iloc[:, selected_feature_indices]\n",
    "    X_test_selected_Mortality_ICU = X_test.iloc[:, selected_feature_indices]\n",
    "    X_ex = X_ex.iloc[:, selected_feature_indices]\n",
    "    return X_train_selected_Mortality_ICU ,X_test_selected_Mortality_ICU,X_ex, selected_feature_indices\n",
    "\n",
    "X_train,X_test,X_ex, selected_feature_indices = lasso_MO_ICU(X_train, y_train,X_test,X_ex, max_iter=2000)\n"
   ]
  },
  {
   "cell_type": "code",
   "execution_count": 327,
   "metadata": {},
   "outputs": [],
   "source": [
    "from imblearn.under_sampling import RandomUnderSampler\n",
    "\n",
    "under_sampler = RandomUnderSampler()\n",
    "X_train, y_train = under_sampler.fit_resample(X_train, y_train)\n",
    "X_test, y_test = under_sampler.fit_resample(X_test, y_test)\n",
    "X_ex, y_ex = under_sampler.fit_resample(X_ex, y_ex )\n"
   ]
  },
  {
   "cell_type": "code",
   "execution_count": 328,
   "metadata": {},
   "outputs": [],
   "source": [
    "for i in [X_train ,y_train, X_test ,y_test, X_ex ,y_ex]:\n",
    "     i = i.reset_index(drop=True, inplace=True)\n",
    "    \n"
   ]
  },
  {
   "cell_type": "code",
   "execution_count": 329,
   "metadata": {},
   "outputs": [],
   "source": [
    "m = X_ex\n",
    "z = 'X_ex_u_F'"
   ]
  },
  {
   "cell_type": "code",
   "execution_count": 330,
   "metadata": {},
   "outputs": [],
   "source": [
    "df = m\n",
    "\n",
    "\n",
    "\n",
    "\n",
    "# Replace values based on conditions\n",
    "df['O2 saturation without supply'] = df['O2 saturation without supply'].apply(lambda x: 'normal' if  x >= 95 else 'Lower' )\n",
    "df['pulse rate'] = df['pulse rate'].apply(lambda x: 'Higher' if  x > 80 else ('Lower' if x <= 60 else 'Normal'))\n",
    "df['diastolic Blood pressure'] = df['diastolic Blood pressure'].apply(lambda x: 'Higher' if x >= 80 else 'normal')\n",
    "df['Systolic Blood pressure'] = df['Systolic Blood pressure'].apply(lambda x: 'Higher' if x >= 120 else 'normal')\n",
    "df['respiratory rate'] = df['respiratory rate'].apply(lambda x: 'Higher' if x >= 18 else ('Lower' if x <= 12 else 'Normal'))\n",
    "df['Temperature'] = df['Temperature'].apply(lambda x: 'Higher' if x >= 37.2 else ('Lower' if x <= 36.1 else 'Normal'))\n",
    "df['WBC'] = df['WBC'].apply(lambda x: 'Higher' if x >= 9.5 else ('Lower' if x <= 3.5 else 'Normal'))\n",
    "df[' Lymphocyte count'] = df[' Lymphocyte count'].apply(lambda x: 'Higher' if x >= 50 else ('Lower' if x <= 20 else 'Normal'))\n",
    "df[' Neutrophils percentage'] = df[' Neutrophils percentage'].apply(lambda x: 'Higher' if  x >= 75 else ('Lower' if x <= 40 else 'Normal'))\n",
    "df['Platelets '] = df['Platelets '].apply(lambda x: 'Higher' if  x >= 450 else ('Lower' if x <= 150 else 'Normal'))\n",
    "df['Hemoglobin'] = df['Hemoglobin'].apply(lambda x: 'Higher' if  x >= 17 else ('Lower' if x <= 13 else 'Normal'))\n",
    "df['MCV'] = df['MCV'].apply(lambda x: 'Higher' if  x >= 100 else ('Lower' if x <= 80 else 'Normal'))\n",
    "df['CR'] = df['CR'].apply(lambda x: 'Higher' if  x >= 1.2 else ('Lower' if x <= 0.5 else 'Normal'))\n",
    "df['sodium'] = df['sodium'].apply(lambda x: 'Higher' if  x >= 145 else ('Lower' if x <= 135 else 'Normal'))\n",
    "df['potassium'] = df['potassium'].apply(lambda x: 'Higher' if  x >= 5.1 else ('Lower' if x <= 3.5 else 'Normal'))\n",
    "df['alkaline phosphatase'] = df['alkaline phosphatase'].apply(lambda x: 'Higher' if  x >= 147 else ('Lower' if x <= 44 else 'Normal'))\n",
    "df['ESR'] = df['ESR'].apply(lambda x: 'Lower' if  x <= 15 else 'Higher' )\n",
    "df['CPK'] = df['CPK'].apply(lambda x: 'Lower' if  x <= 200 else 'Higher' )\n",
    "df['PTT'] = df['PTT'].apply(lambda x: 'Higher' if  x >= 40 else ('Lower' if x <= 30 else 'Normal'))\n",
    "df['PT'] = df['PT'].apply(lambda x: 'Higher' if  x >= 12.5 else ('Lower' if x <= 11 else 'Normal'))\n",
    "\n",
    "\n",
    "\n"
   ]
  },
  {
   "cell_type": "code",
   "execution_count": 331,
   "metadata": {},
   "outputs": [],
   "source": [
    "main_xtrain = df"
   ]
  },
  {
   "cell_type": "code",
   "execution_count": 332,
   "metadata": {},
   "outputs": [],
   "source": [
    "main_xtrain[\"Gender\"] = main_xtrain[\"Gender\"].replace(0 , \"female.\")\n",
    "main_xtrain[\"Gender\"] = main_xtrain[\"Gender\"].replace(1 , \"male;\")\n",
    "gender = main_xtrain[\"Gender\"]"
   ]
  },
  {
   "cell_type": "markdown",
   "metadata": {},
   "source": [
    "# Symptomps"
   ]
  },
  {
   "cell_type": "code",
   "execution_count": 333,
   "metadata": {},
   "outputs": [],
   "source": [
    "\n",
    "symptoms = df[[\n",
    "'Caugh',\n",
    " 'Dyspnea',\n",
    " 'Fever',\n",
    " 'Chiver',\n",
    " 'Mylagia',\n",
    " 'Weakness',\n",
    " 'loss of consciousness',\n",
    " 'nausea/Vomit',\n",
    " 'Diarhhea',\n",
    " 'ChestPain',\n",
    " 'Headache',\n",
    "\n",
    "]]"
   ]
  },
  {
   "cell_type": "code",
   "execution_count": 334,
   "metadata": {},
   "outputs": [
    {
     "name": "stderr",
     "output_type": "stream",
     "text": [
      "C:\\Users\\Mohammad reza\\AppData\\Local\\Temp\\ipykernel_1500\\39753817.py:19: SettingWithCopyWarning: \n",
      "A value is trying to be set on a copy of a slice from a DataFrame\n",
      "\n",
      "See the caveats in the documentation: https://pandas.pydata.org/pandas-docs/stable/user_guide/indexing.html#returning-a-view-versus-a-copy\n",
      "  main_xtrain['symptomps'][index] = f'present symptoms are {sentence}'\n",
      "C:\\Users\\Mohammad reza\\AppData\\Local\\Temp\\ipykernel_1500\\39753817.py:19: FutureWarning: Setting an item of incompatible dtype is deprecated and will raise in a future error of pandas. Value 'present symptoms are Caugh, Dyspnea, Fever, Cancer, symptomps' has dtype incompatible with int64, please explicitly cast to a compatible dtype first.\n",
      "  main_xtrain['symptomps'][index] = f'present symptoms are {sentence}'\n"
     ]
    }
   ],
   "source": [
    "def convert_row_to_symptoms(row):\n",
    "    preset_symptoms = []\n",
    "    for symptom, value in row.items():\n",
    "        if value == 1:\n",
    "            preset_symptoms.append(symptom)\n",
    "\n",
    "    return preset_symptoms\n",
    "\n",
    "\n",
    "# Iterate through the dataframe rows and print the converted format\n",
    "main_xtrain['symptomps'] =1 \n",
    "for index, row in df.iterrows():\n",
    "    preset = convert_row_to_symptoms(row)\n",
    "    sentence = \", \".join(preset) \n",
    "    \n",
    "    if sentence ==\", \":\n",
    "        main_xtrain['symptomps'][index] = \"No present symptomps. \"\n",
    "    else:\n",
    "        main_xtrain['symptomps'][index] = f'present symptoms are {sentence}'"
   ]
  },
  {
   "cell_type": "code",
   "execution_count": 335,
   "metadata": {},
   "outputs": [
    {
     "data": {
      "text/plain": [
       "0      present symptoms are Caugh, Dyspnea, Fever, Ca...\n",
       "1      present symptoms are Dyspnea, Weakness, hypert...\n",
       "2      present symptoms are Diarhhea, Curremt Smoker,...\n",
       "3      present symptoms are Caugh, Dyspnea, hypertens...\n",
       "4      present symptoms are Dyspnea, Curremt Smoker, ...\n",
       "                             ...                        \n",
       "565    present symptoms are Dyspnea, Fever, Mylagia, ...\n",
       "566    present symptoms are Fever, Chiver, Weakness, ...\n",
       "567    present symptoms are Caugh, Fever, Chiver, Dia...\n",
       "568    present symptoms are nausea/Vomit, diabetes me...\n",
       "569    present symptoms are Caugh, Dyspnea, Fever, Ch...\n",
       "Name: symptomps, Length: 570, dtype: object"
      ]
     },
     "execution_count": 335,
     "metadata": {},
     "output_type": "execute_result"
    }
   ],
   "source": [
    "main_xtrain['symptomps']"
   ]
  },
  {
   "cell_type": "markdown",
   "metadata": {},
   "source": [
    "# Past medical history"
   ]
  },
  {
   "cell_type": "code",
   "execution_count": 336,
   "metadata": {},
   "outputs": [],
   "source": [
    "df = main_xtrain\n",
    "\n",
    "#Past Medical History\n",
    "\n",
    "Past =df[['Diarhhea',\n",
    " 'ChestPain',\n",
    " 'Headache',\n",
    " 'Curremt Smoker',\n",
    " 'hypertension',\n",
    " 'Congestive Heart Failure',\n",
    " 'COPD',\n",
    " 'diabetes mellitus',\n",
    " 'cerebral vascular accident',\n",
    " 'Chronic kidney disease',\n",
    " 'Cancer',\n",
    " 'Alzhimer'] ]\n",
    "\n"
   ]
  },
  {
   "cell_type": "code",
   "execution_count": 337,
   "metadata": {},
   "outputs": [
    {
     "name": "stderr",
     "output_type": "stream",
     "text": [
      "C:\\Users\\Mohammad reza\\AppData\\Local\\Temp\\ipykernel_1500\\872233243.py:9: SettingWithCopyWarning: \n",
      "A value is trying to be set on a copy of a slice from a DataFrame\n",
      "\n",
      "See the caveats in the documentation: https://pandas.pydata.org/pandas-docs/stable/user_guide/indexing.html#returning-a-view-versus-a-copy\n",
      "  main_xtrain['Past medical history'][index] = f\"Past medical history is  {sentence} . \"\n",
      "C:\\Users\\Mohammad reza\\AppData\\Local\\Temp\\ipykernel_1500\\872233243.py:9: FutureWarning: Setting an item of incompatible dtype is deprecated and will raise in a future error of pandas. Value 'Past medical history is  Cancer . ' has dtype incompatible with int64, please explicitly cast to a compatible dtype first.\n",
      "  main_xtrain['Past medical history'][index] = f\"Past medical history is  {sentence} . \"\n"
     ]
    }
   ],
   "source": [
    "main_xtrain['Past medical history'] = 1 \n",
    "for index, row in Past.iterrows():\n",
    "    preset= convert_row_to_symptoms(row)\n",
    "    if len(preset) >1 :\n",
    "      sentence = \", \".join(preset)\n",
    "      main_xtrain['Past medical history'][index] = f\"Past medical history are  {sentence} . \"\n",
    "    elif len(preset) == 1 :\n",
    "      sentence = \", \".join(preset)\n",
    "      main_xtrain['Past medical history'][index] = f\"Past medical history is  {sentence} . \"\n",
    "    else:\n",
    "        sentence = \", \".join(preset) \n",
    "        main_xtrain['Past medical history'][index] = f\"No Past medical history\""
   ]
  },
  {
   "cell_type": "code",
   "execution_count": 338,
   "metadata": {},
   "outputs": [
    {
     "data": {
      "text/plain": [
       "0                     Past medical history is  Cancer . \n",
       "1      Past medical history are  hypertension, diabet...\n",
       "2      Past medical history are  Diarhhea, Curremt Sm...\n",
       "3               Past medical history is  hypertension . \n",
       "4             Past medical history is  Curremt Smoker . \n",
       "                             ...                        \n",
       "565                 Past medical history is  Headache . \n",
       "566        Past medical history is  diabetes mellitus . \n",
       "567        Past medical history are  Diarhhea, Cancer . \n",
       "568        Past medical history is  diabetes mellitus . \n",
       "569      Past medical history are  Diarhhea, Headache . \n",
       "Name: Past medical history, Length: 570, dtype: object"
      ]
     },
     "execution_count": 338,
     "metadata": {},
     "output_type": "execute_result"
    }
   ],
   "source": [
    "main_xtrain['Past medical history']"
   ]
  },
  {
   "cell_type": "code",
   "execution_count": 339,
   "metadata": {},
   "outputs": [],
   "source": [
    "main_xtrain = main_xtrain.loc[: , 'symptom to referral':'Past medical history']"
   ]
  },
  {
   "cell_type": "code",
   "execution_count": 340,
   "metadata": {},
   "outputs": [],
   "source": [
    "main_xtrain['symptom to referral'] = \"symptom to referral is \" + main_xtrain['symptom to referral'].astype(str)+\" days\""
   ]
  },
  {
   "cell_type": "markdown",
   "metadata": {},
   "source": [
    "# lab test"
   ]
  },
  {
   "cell_type": "code",
   "execution_count": 341,
   "metadata": {},
   "outputs": [
    {
     "name": "stderr",
     "output_type": "stream",
     "text": [
      "C:\\Users\\Mohammad reza\\AppData\\Local\\Temp\\ipykernel_1500\\1819293961.py:43: SettingWithCopyWarning: \n",
      "A value is trying to be set on a copy of a slice from a DataFrame\n",
      "\n",
      "See the caveats in the documentation: https://pandas.pydata.org/pandas-docs/stable/user_guide/indexing.html#returning-a-view-versus-a-copy\n",
      "  main_xtrain['lab data'][index] = f\" {sentence1} are higher than  normal range , {sentence2} are lower than  normal range . \"\n",
      "C:\\Users\\Mohammad reza\\AppData\\Local\\Temp\\ipykernel_1500\\1819293961.py:43: FutureWarning: Setting an item of incompatible dtype is deprecated and will raise in a future error of pandas. Value ' pulse rate, Systolic Blood pressure, respiratory rate, Temperature,  Neutrophils percentage, CR, alkaline phosphatase, ESR, PT are higher than  normal range , Gender, Caugh, Dyspnea, Fever, Chiver, Mylagia, Weakness, loss of consciousness, nausea/Vomit, Diarhhea, ChestPain, Headache, Curremt Smoker, hypertension, Congestive Heart Failure, COPD, diabetes mellitus, cerebral vascular accident, Chronic kidney disease, Cancer, Alzhimer, symptom to referral, O2 saturation without supply, diastolic Blood pressure,  Lymphocyte count, Hemoglobin, CPK, Age, symptomps, Past medical history are lower than  normal range . ' has dtype incompatible with int64, please explicitly cast to a compatible dtype first.\n",
      "  main_xtrain['lab data'][index] = f\" {sentence1} are higher than  normal range , {sentence2} are lower than  normal range . \"\n"
     ]
    }
   ],
   "source": [
    "def convert_row_to_lab(row):\n",
    "    lab_high = []\n",
    "    lab_low = []\n",
    "    lab_normal = []\n",
    "    for symptom, value in row.items():\n",
    "        if value == 'Higher':\n",
    "            lab_high.append(symptom)\n",
    "        elif value == 'Normal':\n",
    "            lab_normal.append(symptom)\n",
    "        else:\n",
    "            lab_low.append(symptom)\n",
    "    return lab_high, lab_low , lab_normal\n",
    "\n",
    "# Iterate through the dataframe rows and print the converted format\n",
    "lab = df[[\n",
    " 'O2 saturation without supply',\n",
    " 'pulse rate',\n",
    " 'diastolic Blood pressure',\n",
    " 'Systolic Blood pressure',\n",
    " 'respiratory rate',\n",
    " 'Temperature',\n",
    " 'WBC',\n",
    " ' Lymphocyte count',\n",
    " ' Neutrophils percentage',\n",
    " 'Platelets ',\n",
    " 'Hemoglobin',\n",
    " 'MCV',\n",
    " 'CR',\n",
    " 'sodium',\n",
    " 'potassium',\n",
    " 'alkaline phosphatase',\n",
    " 'ESR',\n",
    " 'CPK',\n",
    " 'PTT',\n",
    " 'PT',\n",
    "]]\n",
    "\n",
    "main_xtrain['lab data']=1\n",
    "for index, row in df.iterrows():\n",
    "    lab_high, lab_low , lab_normal = convert_row_to_lab(row)\n",
    "    sentence1 = \", \".join(lab_high)\n",
    "    sentence2 = \", \".join(lab_low)\n",
    "    main_xtrain['lab data'][index] = f\" {sentence1} are higher than  normal range , {sentence2} are lower than  normal range . \""
   ]
  },
  {
   "cell_type": "code",
   "execution_count": 342,
   "metadata": {},
   "outputs": [
    {
     "data": {
      "text/plain": [
       "0       pulse rate, Systolic Blood pressure, respirat...\n",
       "1       pulse rate, diastolic Blood pressure, Systoli...\n",
       "2       pulse rate, respiratory rate, Temperature, WB...\n",
       "3       Systolic Blood pressure,  Neutrophils percent...\n",
       "4       pulse rate, respiratory rate, WBC,  Lymphocyt...\n",
       "                             ...                        \n",
       "565     pulse rate, respiratory rate, alkaline phosph...\n",
       "566     diastolic Blood pressure, Systolic Blood pres...\n",
       "567     pulse rate, diastolic Blood pressure, respira...\n",
       "568     pulse rate, Temperature,  Neutrophils percent...\n",
       "569     pulse rate, diastolic Blood pressure, respira...\n",
       "Name: lab data, Length: 570, dtype: object"
      ]
     },
     "execution_count": 342,
     "metadata": {},
     "output_type": "execute_result"
    }
   ],
   "source": [
    "main_xtrain['lab data']"
   ]
  },
  {
   "cell_type": "markdown",
   "metadata": {},
   "source": [
    "# Age"
   ]
  },
  {
   "cell_type": "code",
   "execution_count": 343,
   "metadata": {},
   "outputs": [],
   "source": [
    "main_xtrain[\"Age\"]= \"age is \"+main_xtrain[\"Age\"].astype(str)+\". \""
   ]
  },
  {
   "cell_type": "markdown",
   "metadata": {},
   "source": [
    "# mortality"
   ]
  },
  {
   "cell_type": "code",
   "execution_count": 344,
   "metadata": {},
   "outputs": [],
   "source": [
    "y_train = pd.DataFrame(y_train)"
   ]
  },
  {
   "cell_type": "code",
   "execution_count": 345,
   "metadata": {},
   "outputs": [
    {
     "data": {
      "text/html": [
       "<div>\n",
       "<style scoped>\n",
       "    .dataframe tbody tr th:only-of-type {\n",
       "        vertical-align: middle;\n",
       "    }\n",
       "\n",
       "    .dataframe tbody tr th {\n",
       "        vertical-align: top;\n",
       "    }\n",
       "\n",
       "    .dataframe thead th {\n",
       "        text-align: right;\n",
       "    }\n",
       "</style>\n",
       "<table border=\"1\" class=\"dataframe\">\n",
       "  <thead>\n",
       "    <tr style=\"text-align: right;\">\n",
       "      <th></th>\n",
       "      <th>Inhospital Mortality</th>\n",
       "    </tr>\n",
       "  </thead>\n",
       "  <tbody>\n",
       "    <tr>\n",
       "      <th>0</th>\n",
       "      <td>0.0</td>\n",
       "    </tr>\n",
       "    <tr>\n",
       "      <th>1</th>\n",
       "      <td>0.0</td>\n",
       "    </tr>\n",
       "    <tr>\n",
       "      <th>2</th>\n",
       "      <td>0.0</td>\n",
       "    </tr>\n",
       "    <tr>\n",
       "      <th>3</th>\n",
       "      <td>0.0</td>\n",
       "    </tr>\n",
       "    <tr>\n",
       "      <th>4</th>\n",
       "      <td>0.0</td>\n",
       "    </tr>\n",
       "    <tr>\n",
       "      <th>...</th>\n",
       "      <td>...</td>\n",
       "    </tr>\n",
       "    <tr>\n",
       "      <th>565</th>\n",
       "      <td>1.0</td>\n",
       "    </tr>\n",
       "    <tr>\n",
       "      <th>566</th>\n",
       "      <td>1.0</td>\n",
       "    </tr>\n",
       "    <tr>\n",
       "      <th>567</th>\n",
       "      <td>1.0</td>\n",
       "    </tr>\n",
       "    <tr>\n",
       "      <th>568</th>\n",
       "      <td>1.0</td>\n",
       "    </tr>\n",
       "    <tr>\n",
       "      <th>569</th>\n",
       "      <td>1.0</td>\n",
       "    </tr>\n",
       "  </tbody>\n",
       "</table>\n",
       "<p>570 rows × 1 columns</p>\n",
       "</div>"
      ],
      "text/plain": [
       "     Inhospital Mortality\n",
       "0                     0.0\n",
       "1                     0.0\n",
       "2                     0.0\n",
       "3                     0.0\n",
       "4                     0.0\n",
       "..                    ...\n",
       "565                   1.0\n",
       "566                   1.0\n",
       "567                   1.0\n",
       "568                   1.0\n",
       "569                   1.0\n",
       "\n",
       "[570 rows x 1 columns]"
      ]
     },
     "execution_count": 345,
     "metadata": {},
     "output_type": "execute_result"
    }
   ],
   "source": [
    "pd.DataFrame(y_ex)"
   ]
  },
  {
   "cell_type": "code",
   "execution_count": 346,
   "metadata": {},
   "outputs": [],
   "source": [
    "def rename_mortality(data):\n",
    "    mortality = []\n",
    "    for i in data:\n",
    "        if i == 1.0:\n",
    "            mortality.append('survive')\n",
    "        else:\n",
    "            mortality.append('die')\n",
    "    return mortality"
   ]
  },
  {
   "cell_type": "code",
   "execution_count": 347,
   "metadata": {},
   "outputs": [],
   "source": [
    "y_ex = pd.DataFrame(y_ex)\n",
    "y_test= pd.DataFrame(y_test)"
   ]
  },
  {
   "cell_type": "code",
   "execution_count": 348,
   "metadata": {},
   "outputs": [],
   "source": [
    "\n",
    "y_train.loc[: ,\"Inhospital Mortality\"] = rename_mortality(y_train.loc[: ,\"Inhospital Mortality\"])\n",
    "y_test.loc[: ,\"Inhospital Mortality\"] = rename_mortality(y_test.loc[: ,\"Inhospital Mortality\"])\n",
    "y_ex.loc[: ,\"Inhospital Mortality\"] = rename_mortality(y_ex.loc[: ,\"Inhospital Mortality\"])"
   ]
  },
  {
   "cell_type": "code",
   "execution_count": 349,
   "metadata": {},
   "outputs": [
    {
     "data": {
      "text/html": [
       "<div>\n",
       "<style scoped>\n",
       "    .dataframe tbody tr th:only-of-type {\n",
       "        vertical-align: middle;\n",
       "    }\n",
       "\n",
       "    .dataframe tbody tr th {\n",
       "        vertical-align: top;\n",
       "    }\n",
       "\n",
       "    .dataframe thead th {\n",
       "        text-align: right;\n",
       "    }\n",
       "</style>\n",
       "<table border=\"1\" class=\"dataframe\">\n",
       "  <thead>\n",
       "    <tr style=\"text-align: right;\">\n",
       "      <th></th>\n",
       "      <th>Inhospital Mortality</th>\n",
       "    </tr>\n",
       "  </thead>\n",
       "  <tbody>\n",
       "    <tr>\n",
       "      <th>0</th>\n",
       "      <td>die</td>\n",
       "    </tr>\n",
       "    <tr>\n",
       "      <th>1</th>\n",
       "      <td>die</td>\n",
       "    </tr>\n",
       "    <tr>\n",
       "      <th>2</th>\n",
       "      <td>die</td>\n",
       "    </tr>\n",
       "    <tr>\n",
       "      <th>3</th>\n",
       "      <td>die</td>\n",
       "    </tr>\n",
       "    <tr>\n",
       "      <th>4</th>\n",
       "      <td>die</td>\n",
       "    </tr>\n",
       "    <tr>\n",
       "      <th>...</th>\n",
       "      <td>...</td>\n",
       "    </tr>\n",
       "    <tr>\n",
       "      <th>2471</th>\n",
       "      <td>survive</td>\n",
       "    </tr>\n",
       "    <tr>\n",
       "      <th>2472</th>\n",
       "      <td>survive</td>\n",
       "    </tr>\n",
       "    <tr>\n",
       "      <th>2473</th>\n",
       "      <td>survive</td>\n",
       "    </tr>\n",
       "    <tr>\n",
       "      <th>2474</th>\n",
       "      <td>survive</td>\n",
       "    </tr>\n",
       "    <tr>\n",
       "      <th>2475</th>\n",
       "      <td>survive</td>\n",
       "    </tr>\n",
       "  </tbody>\n",
       "</table>\n",
       "<p>2476 rows × 1 columns</p>\n",
       "</div>"
      ],
      "text/plain": [
       "     Inhospital Mortality\n",
       "0                     die\n",
       "1                     die\n",
       "2                     die\n",
       "3                     die\n",
       "4                     die\n",
       "...                   ...\n",
       "2471              survive\n",
       "2472              survive\n",
       "2473              survive\n",
       "2474              survive\n",
       "2475              survive\n",
       "\n",
       "[2476 rows x 1 columns]"
      ]
     },
     "execution_count": 349,
     "metadata": {},
     "output_type": "execute_result"
    }
   ],
   "source": [
    "y_train"
   ]
  },
  {
   "cell_type": "code",
   "execution_count": 350,
   "metadata": {},
   "outputs": [],
   "source": [
    "y_train.reset_index(drop=True, inplace=True)\n",
    "y_test.reset_index(drop=True, inplace=True)\n",
    "y_ex.reset_index(drop=True, inplace=True)"
   ]
  },
  {
   "cell_type": "markdown",
   "metadata": {},
   "source": [
    "# y_train_mortality"
   ]
  },
  {
   "cell_type": "code",
   "execution_count": 351,
   "metadata": {},
   "outputs": [],
   "source": [
    "y_train_mortality = y_ex"
   ]
  },
  {
   "cell_type": "code",
   "execution_count": 352,
   "metadata": {},
   "outputs": [],
   "source": [
    "main_xtrain= pd.concat([main_xtrain , y_train_mortality], axis=1)"
   ]
  },
  {
   "cell_type": "code",
   "execution_count": 353,
   "metadata": {},
   "outputs": [],
   "source": [
    "gender = pd.DataFrame(gender)"
   ]
  },
  {
   "cell_type": "code",
   "execution_count": 354,
   "metadata": {},
   "outputs": [],
   "source": [
    "main_xtrain = pd.concat([main_xtrain,gender],axis=1)"
   ]
  },
  {
   "cell_type": "code",
   "execution_count": 355,
   "metadata": {},
   "outputs": [],
   "source": [
    "main_xtrain[\"patient medical hidtory\"] = main_xtrain[\"Age\"]+\" \"+main_xtrain[\"Gender\"].astype('string') +\" \"+main_xtrain[\"symptomps\"]+\" \"+ main_xtrain[\"Past medical history\"]+\" \"+main_xtrain['lab data']"
   ]
  },
  {
   "cell_type": "code",
   "execution_count": 356,
   "metadata": {},
   "outputs": [],
   "source": [
    "final_train_dataset = pd.concat([main_xtrain[\"patient medical hidtory\"], y_train_mortality] , axis=1)"
   ]
  },
  {
   "cell_type": "code",
   "execution_count": 357,
   "metadata": {},
   "outputs": [
    {
     "data": {
      "text/html": [
       "<div>\n",
       "<style scoped>\n",
       "    .dataframe tbody tr th:only-of-type {\n",
       "        vertical-align: middle;\n",
       "    }\n",
       "\n",
       "    .dataframe tbody tr th {\n",
       "        vertical-align: top;\n",
       "    }\n",
       "\n",
       "    .dataframe thead th {\n",
       "        text-align: right;\n",
       "    }\n",
       "</style>\n",
       "<table border=\"1\" class=\"dataframe\">\n",
       "  <thead>\n",
       "    <tr style=\"text-align: right;\">\n",
       "      <th></th>\n",
       "      <th>patient medical hidtory</th>\n",
       "      <th>Inhospital Mortality</th>\n",
       "    </tr>\n",
       "  </thead>\n",
       "  <tbody>\n",
       "    <tr>\n",
       "      <th>0</th>\n",
       "      <td>age is 75.0.  male; present symptoms are Caugh...</td>\n",
       "      <td>die</td>\n",
       "    </tr>\n",
       "    <tr>\n",
       "      <th>1</th>\n",
       "      <td>age is 68.0.  female. present symptoms are Dys...</td>\n",
       "      <td>die</td>\n",
       "    </tr>\n",
       "    <tr>\n",
       "      <th>2</th>\n",
       "      <td>age is 60.0.  female. present symptoms are Dia...</td>\n",
       "      <td>die</td>\n",
       "    </tr>\n",
       "    <tr>\n",
       "      <th>3</th>\n",
       "      <td>age is 85.0.  male; present symptoms are Caugh...</td>\n",
       "      <td>die</td>\n",
       "    </tr>\n",
       "    <tr>\n",
       "      <th>4</th>\n",
       "      <td>age is 39.0.  male; present symptoms are Dyspn...</td>\n",
       "      <td>die</td>\n",
       "    </tr>\n",
       "    <tr>\n",
       "      <th>...</th>\n",
       "      <td>...</td>\n",
       "      <td>...</td>\n",
       "    </tr>\n",
       "    <tr>\n",
       "      <th>565</th>\n",
       "      <td>age is 26.0.  female. present symptoms are Dys...</td>\n",
       "      <td>survive</td>\n",
       "    </tr>\n",
       "    <tr>\n",
       "      <th>566</th>\n",
       "      <td>age is 65.0.  male; present symptoms are Fever...</td>\n",
       "      <td>survive</td>\n",
       "    </tr>\n",
       "    <tr>\n",
       "      <th>567</th>\n",
       "      <td>age is 37.0.  male; present symptoms are Caugh...</td>\n",
       "      <td>survive</td>\n",
       "    </tr>\n",
       "    <tr>\n",
       "      <th>568</th>\n",
       "      <td>age is 69.0.  male; present symptoms are nause...</td>\n",
       "      <td>survive</td>\n",
       "    </tr>\n",
       "    <tr>\n",
       "      <th>569</th>\n",
       "      <td>age is 36.0.  male; present symptoms are Caugh...</td>\n",
       "      <td>survive</td>\n",
       "    </tr>\n",
       "  </tbody>\n",
       "</table>\n",
       "<p>570 rows × 2 columns</p>\n",
       "</div>"
      ],
      "text/plain": [
       "                               patient medical hidtory Inhospital Mortality\n",
       "0    age is 75.0.  male; present symptoms are Caugh...                  die\n",
       "1    age is 68.0.  female. present symptoms are Dys...                  die\n",
       "2    age is 60.0.  female. present symptoms are Dia...                  die\n",
       "3    age is 85.0.  male; present symptoms are Caugh...                  die\n",
       "4    age is 39.0.  male; present symptoms are Dyspn...                  die\n",
       "..                                                 ...                  ...\n",
       "565  age is 26.0.  female. present symptoms are Dys...              survive\n",
       "566  age is 65.0.  male; present symptoms are Fever...              survive\n",
       "567  age is 37.0.  male; present symptoms are Caugh...              survive\n",
       "568  age is 69.0.  male; present symptoms are nause...              survive\n",
       "569  age is 36.0.  male; present symptoms are Caugh...              survive\n",
       "\n",
       "[570 rows x 2 columns]"
      ]
     },
     "execution_count": 357,
     "metadata": {},
     "output_type": "execute_result"
    }
   ],
   "source": [
    "final_train_dataset"
   ]
  },
  {
   "cell_type": "code",
   "execution_count": 358,
   "metadata": {},
   "outputs": [],
   "source": [
    "# saving the model\n",
    "\n",
    "final_train_dataset.to_excel(f\"{z}.xlsx\", index= False)"
   ]
  },
  {
   "cell_type": "code",
   "execution_count": null,
   "metadata": {},
   "outputs": [],
   "source": []
  }
 ],
 "metadata": {
  "kernelspec": {
   "display_name": "Python 3 (ipykernel)",
   "language": "python",
   "name": "python3"
  },
  "language_info": {
   "codemirror_mode": {
    "name": "ipython",
    "version": 3
   },
   "file_extension": ".py",
   "mimetype": "text/x-python",
   "name": "python",
   "nbconvert_exporter": "python",
   "pygments_lexer": "ipython3",
   "version": "3.11.5"
  }
 },
 "nbformat": 4,
 "nbformat_minor": 4
}
